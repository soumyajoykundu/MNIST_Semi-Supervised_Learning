{
 "cells": [
  {
   "cell_type": "markdown",
   "id": "0a1f6ac9-89b7-4e44-8b87-db9bcb3109d8",
   "metadata": {},
   "source": [
    "## Overhead MNIST Dataset\n",
    "\n",
    "* Dataset of Satellite images — \n",
    "    * Training set of $8,518$ examples\n",
    "    * Test set of $1,065$ examples. \n",
    "    * Number of classes is $4$ with total $9,584$ labels\n",
    "    * Each example is a $28 \\times 28$ grayscale image, associated with a label from $4$ classes. \n",
    "    * Each image is $28$ pixels in height and $28$ pixels in width, for a total of $784$ pixels in total. \n",
    "    * Each pixel has a single pixel-value associated with it, indicating the lightness or darkness of that pixel, with higher numbers meaning darker. \n",
    "    * This pixel-value is an integer between $0$ and $255$. \n",
    "* Each picture contains object variants from sparse edges to single, or multiple, instances of the indicated category."
   ]
  },
  {
   "cell_type": "markdown",
   "id": "9dfaeb4f-5124-4878-a1c1-96500e9dbb73",
   "metadata": {},
   "source": [
    "### Importing Libraries for Manipulating and Visualising Data"
   ]
  },
  {
   "cell_type": "code",
   "execution_count": 1,
   "id": "9f70ae52-d329-489c-bb3d-28fbf6950d50",
   "metadata": {
    "tags": []
   },
   "outputs": [],
   "source": [
    "import numpy as np\n",
    "import tensorflow as tf\n",
    "import pandas as pd\n",
    "from tensorflow import keras\n",
    "from sklearn.linear_model import LogisticRegression\n",
    "from sklearn.cluster import KMeans\n",
    "from sklearn.pipeline import Pipeline\n",
    "import matplotlib.pyplot as plt\n",
    "import time"
   ]
  },
  {
   "cell_type": "markdown",
   "id": "da81b561-9807-450c-a3cb-6b6259cc4599",
   "metadata": {},
   "source": [
    "### Loading the Overhead MNIST Dataset\n",
    "* No need to further splitting of data\n",
    "* Loads in terms of both training and testing data."
   ]
  },
  {
   "cell_type": "code",
   "execution_count": 2,
   "id": "db440e88-17d9-4b76-b9e5-7ec9f38ea998",
   "metadata": {
    "tags": []
   },
   "outputs": [],
   "source": [
    "classes = pd.read_csv(\"classes.csv\")\n",
    "labels = pd.read_csv(\"labels.csv\")\n",
    "test = pd.read_csv(\"test.csv\")\n",
    "train = pd.read_csv(\"train.csv\")"
   ]
  },
  {
   "cell_type": "code",
   "execution_count": 3,
   "id": "fdbcbece-bd3c-4460-8f56-a8f01a8177a3",
   "metadata": {
    "tags": []
   },
   "outputs": [
    {
     "name": "stdout",
     "output_type": "stream",
     "text": [
      "Classes shape :(10, 4)\n",
      "Labels shape:(9584, 4)\n",
      "Test shape:(1065, 785)\n",
      "Train shape:(8519, 785)\n"
     ]
    }
   ],
   "source": [
    "print(\"Classes shape :\" + str(classes.shape))\n",
    "print(\"Labels shape:\" + str(labels.shape))\n",
    "print(\"Test shape:\" + str(test.shape))\n",
    "print(\"Train shape:\" + str(train.shape))"
   ]
  },
  {
   "cell_type": "code",
   "execution_count": 4,
   "id": "c02ef6ba-47b2-4d24-8b97-97a321ddad5e",
   "metadata": {
    "tags": []
   },
   "outputs": [
    {
     "data": {
      "text/html": [
       "<div>\n",
       "<style scoped>\n",
       "    .dataframe tbody tr th:only-of-type {\n",
       "        vertical-align: middle;\n",
       "    }\n",
       "\n",
       "    .dataframe tbody tr th {\n",
       "        vertical-align: top;\n",
       "    }\n",
       "\n",
       "    .dataframe thead th {\n",
       "        text-align: right;\n",
       "    }\n",
       "</style>\n",
       "<table border=\"1\" class=\"dataframe\">\n",
       "  <thead>\n",
       "    <tr style=\"text-align: right;\">\n",
       "      <th></th>\n",
       "      <th>class</th>\n",
       "      <th>label</th>\n",
       "      <th>train_count</th>\n",
       "      <th>test_count</th>\n",
       "    </tr>\n",
       "  </thead>\n",
       "  <tbody>\n",
       "    <tr>\n",
       "      <th>0</th>\n",
       "      <td>car</td>\n",
       "      <td>0</td>\n",
       "      <td>888</td>\n",
       "      <td>112</td>\n",
       "    </tr>\n",
       "    <tr>\n",
       "      <th>1</th>\n",
       "      <td>harbor</td>\n",
       "      <td>1</td>\n",
       "      <td>889</td>\n",
       "      <td>111</td>\n",
       "    </tr>\n",
       "    <tr>\n",
       "      <th>2</th>\n",
       "      <td>helicopter</td>\n",
       "      <td>2</td>\n",
       "      <td>655</td>\n",
       "      <td>82</td>\n",
       "    </tr>\n",
       "    <tr>\n",
       "      <th>3</th>\n",
       "      <td>oil_gas_field</td>\n",
       "      <td>3</td>\n",
       "      <td>888</td>\n",
       "      <td>110</td>\n",
       "    </tr>\n",
       "    <tr>\n",
       "      <th>4</th>\n",
       "      <td>parking_lot</td>\n",
       "      <td>4</td>\n",
       "      <td>888</td>\n",
       "      <td>112</td>\n",
       "    </tr>\n",
       "  </tbody>\n",
       "</table>\n",
       "</div>"
      ],
      "text/plain": [
       "           class  label  train_count  test_count\n",
       "0            car      0          888         112\n",
       "1         harbor      1          889         111\n",
       "2     helicopter      2          655          82\n",
       "3  oil_gas_field      3          888         110\n",
       "4    parking_lot      4          888         112"
      ]
     },
     "execution_count": 4,
     "metadata": {},
     "output_type": "execute_result"
    }
   ],
   "source": [
    "classes.head()"
   ]
  },
  {
   "cell_type": "code",
   "execution_count": 5,
   "id": "5913d9b2-771a-42ab-b37d-002f90028d4a",
   "metadata": {
    "tags": []
   },
   "outputs": [
    {
     "data": {
      "text/html": [
       "<div>\n",
       "<style scoped>\n",
       "    .dataframe tbody tr th:only-of-type {\n",
       "        vertical-align: middle;\n",
       "    }\n",
       "\n",
       "    .dataframe tbody tr th {\n",
       "        vertical-align: top;\n",
       "    }\n",
       "\n",
       "    .dataframe thead th {\n",
       "        text-align: right;\n",
       "    }\n",
       "</style>\n",
       "<table border=\"1\" class=\"dataframe\">\n",
       "  <thead>\n",
       "    <tr style=\"text-align: right;\">\n",
       "      <th></th>\n",
       "      <th>label</th>\n",
       "      <th>class</th>\n",
       "      <th>image</th>\n",
       "      <th>dataset</th>\n",
       "    </tr>\n",
       "  </thead>\n",
       "  <tbody>\n",
       "    <tr>\n",
       "      <th>0</th>\n",
       "      <td>8</td>\n",
       "      <td>stadium</td>\n",
       "      <td>00001.jpg</td>\n",
       "      <td>train</td>\n",
       "    </tr>\n",
       "    <tr>\n",
       "      <th>1</th>\n",
       "      <td>3</td>\n",
       "      <td>oil_gas_field</td>\n",
       "      <td>00002.jpg</td>\n",
       "      <td>train</td>\n",
       "    </tr>\n",
       "    <tr>\n",
       "      <th>2</th>\n",
       "      <td>0</td>\n",
       "      <td>car</td>\n",
       "      <td>00003.jpg</td>\n",
       "      <td>train</td>\n",
       "    </tr>\n",
       "    <tr>\n",
       "      <th>3</th>\n",
       "      <td>6</td>\n",
       "      <td>runway_mark</td>\n",
       "      <td>00004.jpg</td>\n",
       "      <td>train</td>\n",
       "    </tr>\n",
       "    <tr>\n",
       "      <th>4</th>\n",
       "      <td>5</td>\n",
       "      <td>plane</td>\n",
       "      <td>00005.jpg</td>\n",
       "      <td>train</td>\n",
       "    </tr>\n",
       "  </tbody>\n",
       "</table>\n",
       "</div>"
      ],
      "text/plain": [
       "   label          class      image dataset\n",
       "0      8        stadium  00001.jpg   train\n",
       "1      3  oil_gas_field  00002.jpg   train\n",
       "2      0            car  00003.jpg   train\n",
       "3      6    runway_mark  00004.jpg   train\n",
       "4      5          plane  00005.jpg   train"
      ]
     },
     "execution_count": 5,
     "metadata": {},
     "output_type": "execute_result"
    }
   ],
   "source": [
    "labels.head()"
   ]
  },
  {
   "cell_type": "code",
   "execution_count": 6,
   "id": "d2b2d35d-d6c7-47a3-abc3-5fabf399b22d",
   "metadata": {
    "tags": []
   },
   "outputs": [
    {
     "data": {
      "text/html": [
       "<div>\n",
       "<style scoped>\n",
       "    .dataframe tbody tr th:only-of-type {\n",
       "        vertical-align: middle;\n",
       "    }\n",
       "\n",
       "    .dataframe tbody tr th {\n",
       "        vertical-align: top;\n",
       "    }\n",
       "\n",
       "    .dataframe thead th {\n",
       "        text-align: right;\n",
       "    }\n",
       "</style>\n",
       "<table border=\"1\" class=\"dataframe\">\n",
       "  <thead>\n",
       "    <tr style=\"text-align: right;\">\n",
       "      <th></th>\n",
       "      <th>label</th>\n",
       "      <th>pixel1</th>\n",
       "      <th>pixel2</th>\n",
       "      <th>pixel3</th>\n",
       "      <th>pixel4</th>\n",
       "      <th>pixel5</th>\n",
       "      <th>pixel6</th>\n",
       "      <th>pixel7</th>\n",
       "      <th>pixel8</th>\n",
       "      <th>pixel9</th>\n",
       "      <th>...</th>\n",
       "      <th>pixel775</th>\n",
       "      <th>pixel776</th>\n",
       "      <th>pixel777</th>\n",
       "      <th>pixel778</th>\n",
       "      <th>pixel779</th>\n",
       "      <th>pixel780</th>\n",
       "      <th>pixel781</th>\n",
       "      <th>pixel782</th>\n",
       "      <th>pixel783</th>\n",
       "      <th>pixel784</th>\n",
       "    </tr>\n",
       "  </thead>\n",
       "  <tbody>\n",
       "    <tr>\n",
       "      <th>0</th>\n",
       "      <td>8</td>\n",
       "      <td>86</td>\n",
       "      <td>91</td>\n",
       "      <td>98</td>\n",
       "      <td>97</td>\n",
       "      <td>96</td>\n",
       "      <td>89</td>\n",
       "      <td>76</td>\n",
       "      <td>84</td>\n",
       "      <td>87</td>\n",
       "      <td>...</td>\n",
       "      <td>76</td>\n",
       "      <td>81</td>\n",
       "      <td>80</td>\n",
       "      <td>72</td>\n",
       "      <td>77</td>\n",
       "      <td>83</td>\n",
       "      <td>71</td>\n",
       "      <td>44</td>\n",
       "      <td>53</td>\n",
       "      <td>33</td>\n",
       "    </tr>\n",
       "    <tr>\n",
       "      <th>1</th>\n",
       "      <td>3</td>\n",
       "      <td>128</td>\n",
       "      <td>133</td>\n",
       "      <td>129</td>\n",
       "      <td>119</td>\n",
       "      <td>114</td>\n",
       "      <td>128</td>\n",
       "      <td>141</td>\n",
       "      <td>131</td>\n",
       "      <td>133</td>\n",
       "      <td>...</td>\n",
       "      <td>137</td>\n",
       "      <td>129</td>\n",
       "      <td>139</td>\n",
       "      <td>161</td>\n",
       "      <td>128</td>\n",
       "      <td>137</td>\n",
       "      <td>131</td>\n",
       "      <td>125</td>\n",
       "      <td>127</td>\n",
       "      <td>135</td>\n",
       "    </tr>\n",
       "    <tr>\n",
       "      <th>2</th>\n",
       "      <td>0</td>\n",
       "      <td>138</td>\n",
       "      <td>117</td>\n",
       "      <td>84</td>\n",
       "      <td>52</td>\n",
       "      <td>38</td>\n",
       "      <td>62</td>\n",
       "      <td>86</td>\n",
       "      <td>75</td>\n",
       "      <td>101</td>\n",
       "      <td>...</td>\n",
       "      <td>63</td>\n",
       "      <td>99</td>\n",
       "      <td>109</td>\n",
       "      <td>83</td>\n",
       "      <td>61</td>\n",
       "      <td>54</td>\n",
       "      <td>75</td>\n",
       "      <td>98</td>\n",
       "      <td>107</td>\n",
       "      <td>108</td>\n",
       "    </tr>\n",
       "    <tr>\n",
       "      <th>3</th>\n",
       "      <td>6</td>\n",
       "      <td>105</td>\n",
       "      <td>108</td>\n",
       "      <td>108</td>\n",
       "      <td>109</td>\n",
       "      <td>111</td>\n",
       "      <td>112</td>\n",
       "      <td>107</td>\n",
       "      <td>104</td>\n",
       "      <td>106</td>\n",
       "      <td>...</td>\n",
       "      <td>120</td>\n",
       "      <td>115</td>\n",
       "      <td>105</td>\n",
       "      <td>89</td>\n",
       "      <td>87</td>\n",
       "      <td>98</td>\n",
       "      <td>92</td>\n",
       "      <td>95</td>\n",
       "      <td>89</td>\n",
       "      <td>84</td>\n",
       "    </tr>\n",
       "    <tr>\n",
       "      <th>4</th>\n",
       "      <td>5</td>\n",
       "      <td>176</td>\n",
       "      <td>143</td>\n",
       "      <td>109</td>\n",
       "      <td>155</td>\n",
       "      <td>151</td>\n",
       "      <td>149</td>\n",
       "      <td>145</td>\n",
       "      <td>152</td>\n",
       "      <td>156</td>\n",
       "      <td>...</td>\n",
       "      <td>92</td>\n",
       "      <td>85</td>\n",
       "      <td>82</td>\n",
       "      <td>91</td>\n",
       "      <td>80</td>\n",
       "      <td>80</td>\n",
       "      <td>79</td>\n",
       "      <td>79</td>\n",
       "      <td>82</td>\n",
       "      <td>85</td>\n",
       "    </tr>\n",
       "  </tbody>\n",
       "</table>\n",
       "<p>5 rows × 785 columns</p>\n",
       "</div>"
      ],
      "text/plain": [
       "   label  pixel1  pixel2  pixel3  pixel4  pixel5  pixel6  pixel7  pixel8  \\\n",
       "0      8      86      91      98      97      96      89      76      84   \n",
       "1      3     128     133     129     119     114     128     141     131   \n",
       "2      0     138     117      84      52      38      62      86      75   \n",
       "3      6     105     108     108     109     111     112     107     104   \n",
       "4      5     176     143     109     155     151     149     145     152   \n",
       "\n",
       "   pixel9  ...  pixel775  pixel776  pixel777  pixel778  pixel779  pixel780  \\\n",
       "0      87  ...        76        81        80        72        77        83   \n",
       "1     133  ...       137       129       139       161       128       137   \n",
       "2     101  ...        63        99       109        83        61        54   \n",
       "3     106  ...       120       115       105        89        87        98   \n",
       "4     156  ...        92        85        82        91        80        80   \n",
       "\n",
       "   pixel781  pixel782  pixel783  pixel784  \n",
       "0        71        44        53        33  \n",
       "1       131       125       127       135  \n",
       "2        75        98       107       108  \n",
       "3        92        95        89        84  \n",
       "4        79        79        82        85  \n",
       "\n",
       "[5 rows x 785 columns]"
      ]
     },
     "execution_count": 6,
     "metadata": {},
     "output_type": "execute_result"
    }
   ],
   "source": [
    "train.head()"
   ]
  },
  {
   "cell_type": "code",
   "execution_count": 7,
   "id": "21cd0d9a-db41-4070-9c77-48eab96c363e",
   "metadata": {
    "tags": []
   },
   "outputs": [
    {
     "data": {
      "text/html": [
       "<div>\n",
       "<style scoped>\n",
       "    .dataframe tbody tr th:only-of-type {\n",
       "        vertical-align: middle;\n",
       "    }\n",
       "\n",
       "    .dataframe tbody tr th {\n",
       "        vertical-align: top;\n",
       "    }\n",
       "\n",
       "    .dataframe thead th {\n",
       "        text-align: right;\n",
       "    }\n",
       "</style>\n",
       "<table border=\"1\" class=\"dataframe\">\n",
       "  <thead>\n",
       "    <tr style=\"text-align: right;\">\n",
       "      <th></th>\n",
       "      <th>label</th>\n",
       "      <th>pixel1</th>\n",
       "      <th>pixel2</th>\n",
       "      <th>pixel3</th>\n",
       "      <th>pixel4</th>\n",
       "      <th>pixel5</th>\n",
       "      <th>pixel6</th>\n",
       "      <th>pixel7</th>\n",
       "      <th>pixel8</th>\n",
       "      <th>pixel9</th>\n",
       "      <th>...</th>\n",
       "      <th>pixel775</th>\n",
       "      <th>pixel776</th>\n",
       "      <th>pixel777</th>\n",
       "      <th>pixel778</th>\n",
       "      <th>pixel779</th>\n",
       "      <th>pixel780</th>\n",
       "      <th>pixel781</th>\n",
       "      <th>pixel782</th>\n",
       "      <th>pixel783</th>\n",
       "      <th>pixel784</th>\n",
       "    </tr>\n",
       "  </thead>\n",
       "  <tbody>\n",
       "    <tr>\n",
       "      <th>0</th>\n",
       "      <td>5</td>\n",
       "      <td>198</td>\n",
       "      <td>225</td>\n",
       "      <td>234</td>\n",
       "      <td>229</td>\n",
       "      <td>230</td>\n",
       "      <td>228</td>\n",
       "      <td>214</td>\n",
       "      <td>244</td>\n",
       "      <td>107</td>\n",
       "      <td>...</td>\n",
       "      <td>209</td>\n",
       "      <td>222</td>\n",
       "      <td>211</td>\n",
       "      <td>196</td>\n",
       "      <td>216</td>\n",
       "      <td>206</td>\n",
       "      <td>192</td>\n",
       "      <td>212</td>\n",
       "      <td>242</td>\n",
       "      <td>254</td>\n",
       "    </tr>\n",
       "    <tr>\n",
       "      <th>1</th>\n",
       "      <td>1</td>\n",
       "      <td>34</td>\n",
       "      <td>35</td>\n",
       "      <td>30</td>\n",
       "      <td>17</td>\n",
       "      <td>16</td>\n",
       "      <td>22</td>\n",
       "      <td>11</td>\n",
       "      <td>42</td>\n",
       "      <td>137</td>\n",
       "      <td>...</td>\n",
       "      <td>36</td>\n",
       "      <td>41</td>\n",
       "      <td>32</td>\n",
       "      <td>33</td>\n",
       "      <td>34</td>\n",
       "      <td>37</td>\n",
       "      <td>33</td>\n",
       "      <td>36</td>\n",
       "      <td>35</td>\n",
       "      <td>37</td>\n",
       "    </tr>\n",
       "    <tr>\n",
       "      <th>2</th>\n",
       "      <td>4</td>\n",
       "      <td>113</td>\n",
       "      <td>176</td>\n",
       "      <td>239</td>\n",
       "      <td>250</td>\n",
       "      <td>247</td>\n",
       "      <td>231</td>\n",
       "      <td>177</td>\n",
       "      <td>181</td>\n",
       "      <td>178</td>\n",
       "      <td>...</td>\n",
       "      <td>70</td>\n",
       "      <td>85</td>\n",
       "      <td>158</td>\n",
       "      <td>189</td>\n",
       "      <td>150</td>\n",
       "      <td>168</td>\n",
       "      <td>148</td>\n",
       "      <td>181</td>\n",
       "      <td>154</td>\n",
       "      <td>54</td>\n",
       "    </tr>\n",
       "    <tr>\n",
       "      <th>3</th>\n",
       "      <td>3</td>\n",
       "      <td>151</td>\n",
       "      <td>129</td>\n",
       "      <td>173</td>\n",
       "      <td>182</td>\n",
       "      <td>140</td>\n",
       "      <td>119</td>\n",
       "      <td>120</td>\n",
       "      <td>115</td>\n",
       "      <td>112</td>\n",
       "      <td>...</td>\n",
       "      <td>136</td>\n",
       "      <td>118</td>\n",
       "      <td>126</td>\n",
       "      <td>130</td>\n",
       "      <td>124</td>\n",
       "      <td>119</td>\n",
       "      <td>134</td>\n",
       "      <td>126</td>\n",
       "      <td>121</td>\n",
       "      <td>122</td>\n",
       "    </tr>\n",
       "    <tr>\n",
       "      <th>4</th>\n",
       "      <td>7</td>\n",
       "      <td>186</td>\n",
       "      <td>159</td>\n",
       "      <td>233</td>\n",
       "      <td>255</td>\n",
       "      <td>255</td>\n",
       "      <td>227</td>\n",
       "      <td>140</td>\n",
       "      <td>110</td>\n",
       "      <td>113</td>\n",
       "      <td>...</td>\n",
       "      <td>131</td>\n",
       "      <td>149</td>\n",
       "      <td>108</td>\n",
       "      <td>87</td>\n",
       "      <td>120</td>\n",
       "      <td>131</td>\n",
       "      <td>138</td>\n",
       "      <td>137</td>\n",
       "      <td>137</td>\n",
       "      <td>139</td>\n",
       "    </tr>\n",
       "  </tbody>\n",
       "</table>\n",
       "<p>5 rows × 785 columns</p>\n",
       "</div>"
      ],
      "text/plain": [
       "   label  pixel1  pixel2  pixel3  pixel4  pixel5  pixel6  pixel7  pixel8  \\\n",
       "0      5     198     225     234     229     230     228     214     244   \n",
       "1      1      34      35      30      17      16      22      11      42   \n",
       "2      4     113     176     239     250     247     231     177     181   \n",
       "3      3     151     129     173     182     140     119     120     115   \n",
       "4      7     186     159     233     255     255     227     140     110   \n",
       "\n",
       "   pixel9  ...  pixel775  pixel776  pixel777  pixel778  pixel779  pixel780  \\\n",
       "0     107  ...       209       222       211       196       216       206   \n",
       "1     137  ...        36        41        32        33        34        37   \n",
       "2     178  ...        70        85       158       189       150       168   \n",
       "3     112  ...       136       118       126       130       124       119   \n",
       "4     113  ...       131       149       108        87       120       131   \n",
       "\n",
       "   pixel781  pixel782  pixel783  pixel784  \n",
       "0       192       212       242       254  \n",
       "1        33        36        35        37  \n",
       "2       148       181       154        54  \n",
       "3       134       126       121       122  \n",
       "4       138       137       137       139  \n",
       "\n",
       "[5 rows x 785 columns]"
      ]
     },
     "execution_count": 7,
     "metadata": {},
     "output_type": "execute_result"
    }
   ],
   "source": [
    "test.head()"
   ]
  },
  {
   "cell_type": "markdown",
   "id": "01190bdd-609d-4be0-87a3-f75a7ea7c6cf",
   "metadata": {},
   "source": [
    "### Training and Testing Set"
   ]
  },
  {
   "cell_type": "code",
   "execution_count": 8,
   "id": "ea35c49e-a746-4bfb-99d3-d37a1f9cd54a",
   "metadata": {
    "tags": []
   },
   "outputs": [],
   "source": [
    "# Training set\n",
    "X_train = train.iloc[:, 1:]\n",
    "y_train = train.iloc[:, 0]\n",
    "\n",
    "# Testing set\n",
    "X_test = test.iloc[:, 1:]\n",
    "y_test = test.iloc[:, 0]"
   ]
  },
  {
   "cell_type": "markdown",
   "id": "bf1bbcfb-7588-4fbc-9b07-c3538ce599dc",
   "metadata": {},
   "source": [
    "### Checking for Unknown Values\n",
    "* There is no unknown value in our datasets. \n",
    "* Let's, move to further preprocessing."
   ]
  },
  {
   "cell_type": "code",
   "execution_count": 9,
   "id": "4992a2d0-8b5a-4f4e-9a2c-dfa41ccafca4",
   "metadata": {
    "tags": []
   },
   "outputs": [
    {
     "name": "stdout",
     "output_type": "stream",
     "text": [
      "Is any value in training data unknown = False\n",
      "Is any value in testing data unknown = False\n"
     ]
    }
   ],
   "source": [
    "c = 'False'\n",
    "for i in range(0, 785):\n",
    "    if train.iloc[:, i].isnull().values.any() == True:\n",
    "        c = True\n",
    "        break\n",
    "print(\"Is any value in training data unknown =\", c)\n",
    "\n",
    "c = 'False'\n",
    "for i in range(0, 785):\n",
    "    if test.iloc[:, i].isnull().values.any() == True:\n",
    "        c = True\n",
    "        break\n",
    "print(\"Is any value in testing data unknown =\", c)\n"
   ]
  },
  {
   "cell_type": "markdown",
   "id": "d9128b44-06c6-4494-8dba-3c8238630fe9",
   "metadata": {},
   "source": [
    "* $\\texttt{Normalizing}$ the dataset"
   ]
  },
  {
   "cell_type": "code",
   "execution_count": 10,
   "id": "ba02085e-21a8-4961-9faf-8a6b1a68531c",
   "metadata": {
    "tags": []
   },
   "outputs": [],
   "source": [
    "X_train = X_train/255.0\n",
    "X_test = X_test/255.0"
   ]
  },
  {
   "cell_type": "markdown",
   "id": "25192393-b355-4d65-9638-295574772e79",
   "metadata": {},
   "source": [
    "### Visualizing the data"
   ]
  },
  {
   "cell_type": "code",
   "execution_count": 11,
   "id": "7dbff212-236d-448a-a7fb-0f18b1e18dc4",
   "metadata": {
    "tags": []
   },
   "outputs": [
    {
     "data": {
      "image/png": "[encoded data removed]",
      "text/plain": [
       "<Figure size 1000x1000 with 16 Axes>"
      ]
     },
     "metadata": {},
     "output_type": "display_data"
    }
   ],
   "source": [
    "plt.figure(figsize=(10,10))\n",
    "for i in range(16):\n",
    "    plt.subplot(4,4,i+1)\n",
    "    plt.xticks([])\n",
    "    plt.yticks([])\n",
    "    plt.grid(False)\n",
    "    plt.imshow(np.array(X_train)[i].reshape(28,28), cmap=plt.cm.binary)\n",
    "    plt.title(\"Image label is: {}\".format(y_train[i]))\n",
    "plt.show()"
   ]
  },
  {
   "cell_type": "markdown",
   "id": "024da06b-7fa5-464c-bd35-53fd39d9c5f1",
   "metadata": {},
   "source": [
    "### Logistic Regression on Fully Labelled Dataset\n",
    "* Now let's fit a Logistic Regression model and evaluate it on the test set"
   ]
  },
  {
   "cell_type": "code",
   "execution_count": 12,
   "id": "83fafb1d-8e7c-40b0-be8f-4f7a6a4ce754",
   "metadata": {
    "tags": []
   },
   "outputs": [
    {
     "name": "stdout",
     "output_type": "stream",
     "text": [
      "0.463849765258216\n",
      "Total time taken = 35.34178972244263\n"
     ]
    }
   ],
   "source": [
    "start_time = time.time()\n",
    "log_reg = LogisticRegression(multi_class=\"ovr\", solver=\"lbfgs\", max_iter=5000, random_state=42)\n",
    "log_reg.fit(X_train, y_train)\n",
    "end_time = time.time()\n",
    "print(log_reg.score(X_test, y_test))\n",
    "print(f\"Total time taken = {end_time-start_time}\")"
   ]
  },
  {
   "cell_type": "code",
   "execution_count": 13,
   "id": "c470d143-800b-4975-a165-de776a3d89c2",
   "metadata": {
    "tags": []
   },
   "outputs": [
    {
     "name": "stdout",
     "output_type": "stream",
     "text": [
      "Number of iterations = 324\n"
     ]
    }
   ],
   "source": [
    "print('Number of iterations =', log_reg.n_iter_[0])"
   ]
  },
  {
   "cell_type": "markdown",
   "id": "2ea2de83-a976-48b8-a2dc-d1ff0209e172",
   "metadata": {},
   "source": [
    "* Okay, that's our baseline: $\\texttt{46.38%}$ accuracy. \n",
    "* Let's see if we can do better by using $\\texttt{K-Means}$ as a preprocessing step.\n",
    "* Since, out of $5000$ max iterations, the baseline model needed only $324$ iterations to converge, so we will restrict to $400$ iterations from now onwards."
   ]
  },
  {
   "cell_type": "markdown",
   "id": "04d5325a-ffe4-41e0-95ad-5ffa4d9642db",
   "metadata": {},
   "source": [
    "### Clustering the Training Dataset\n",
    "*  Create a pipeline that will first cluster the training set into $k$ clusters \n",
    "*  Replace the images with their distances to the $k$ clusters\n",
    "*  Apply a logistic regression model\n",
    "*  Compared accuracy w.r.t number of clusters = $100$, $200$ and $300$"
   ]
  },
  {
   "cell_type": "code",
   "execution_count": 14,
   "id": "e15fd1f4-c866-4ab6-8da9-489c23602521",
   "metadata": {
    "tags": []
   },
   "outputs": [
    {
     "name": "stderr",
     "output_type": "stream",
     "text": [
      "C:\\Users\\skund\\anaconda3\\Lib\\site-packages\\sklearn\\cluster\\_kmeans.py:1412: FutureWarning: The default value of `n_init` will change from 10 to 'auto' in 1.4. Set the value of `n_init` explicitly to suppress the warning\n",
      "  super()._check_params_vs_input(X, default_n_init=10)\n",
      "C:\\Users\\skund\\anaconda3\\Lib\\site-packages\\sklearn\\linear_model\\_logistic.py:460: ConvergenceWarning: lbfgs failed to converge (status=1):\n",
      "STOP: TOTAL NO. of ITERATIONS REACHED LIMIT.\n",
      "\n",
      "Increase the number of iterations (max_iter) or scale the data as shown in:\n",
      "    https://scikit-learn.org/stable/modules/preprocessing.html\n",
      "Please also refer to the documentation for alternative solver options:\n",
      "    https://scikit-learn.org/stable/modules/linear_model.html#logistic-regression\n",
      "  n_iter_i = _check_optimize_result(\n"
     ]
    },
    {
     "name": "stdout",
     "output_type": "stream",
     "text": [
      "No. of cluster = 100, Accuracy = 0.6450704225352113\n"
     ]
    },
    {
     "name": "stderr",
     "output_type": "stream",
     "text": [
      "C:\\Users\\skund\\anaconda3\\Lib\\site-packages\\sklearn\\cluster\\_kmeans.py:1412: FutureWarning: The default value of `n_init` will change from 10 to 'auto' in 1.4. Set the value of `n_init` explicitly to suppress the warning\n",
      "  super()._check_params_vs_input(X, default_n_init=10)\n",
      "C:\\Users\\skund\\anaconda3\\Lib\\site-packages\\sklearn\\linear_model\\_logistic.py:460: ConvergenceWarning: lbfgs failed to converge (status=1):\n",
      "STOP: TOTAL NO. of ITERATIONS REACHED LIMIT.\n",
      "\n",
      "Increase the number of iterations (max_iter) or scale the data as shown in:\n",
      "    https://scikit-learn.org/stable/modules/preprocessing.html\n",
      "Please also refer to the documentation for alternative solver options:\n",
      "    https://scikit-learn.org/stable/modules/linear_model.html#logistic-regression\n",
      "  n_iter_i = _check_optimize_result(\n"
     ]
    },
    {
     "name": "stdout",
     "output_type": "stream",
     "text": [
      "No. of cluster = 200, Accuracy = 0.6676056338028169\n"
     ]
    },
    {
     "name": "stderr",
     "output_type": "stream",
     "text": [
      "C:\\Users\\skund\\anaconda3\\Lib\\site-packages\\sklearn\\cluster\\_kmeans.py:1412: FutureWarning: The default value of `n_init` will change from 10 to 'auto' in 1.4. Set the value of `n_init` explicitly to suppress the warning\n",
      "  super()._check_params_vs_input(X, default_n_init=10)\n",
      "C:\\Users\\skund\\anaconda3\\Lib\\site-packages\\sklearn\\linear_model\\_logistic.py:460: ConvergenceWarning: lbfgs failed to converge (status=1):\n",
      "STOP: TOTAL NO. of ITERATIONS REACHED LIMIT.\n",
      "\n",
      "Increase the number of iterations (max_iter) or scale the data as shown in:\n",
      "    https://scikit-learn.org/stable/modules/preprocessing.html\n",
      "Please also refer to the documentation for alternative solver options:\n",
      "    https://scikit-learn.org/stable/modules/linear_model.html#logistic-regression\n",
      "  n_iter_i = _check_optimize_result(\n"
     ]
    },
    {
     "name": "stdout",
     "output_type": "stream",
     "text": [
      "No. of cluster = 300, Accuracy = 0.6525821596244131\n",
      "Total time taken = 270.70635414123535\n"
     ]
    }
   ],
   "source": [
    "k=[100,200,300]\n",
    "start_time = time.time()\n",
    "for i in k:\n",
    "    pipeline = Pipeline([(\"kmeans\", KMeans(n_clusters=i, random_state=42)),\n",
    "    (\"log_reg\", LogisticRegression(multi_class=\"ovr\", solver=\"lbfgs\", max_iter=400, random_state=42))])\n",
    "    pipeline.fit(X_train, y_train)\n",
    "    print(f\"No. of cluster = {i}, Accuracy = {pipeline.score(X_test, y_test)}\")\n",
    "end_time = time.time()\n",
    "print(f\"Total time taken = {end_time-start_time}\")    "
   ]
  },
  {
   "cell_type": "markdown",
   "id": "a3af28be-d358-475d-8f50-e19b8daed8c5",
   "metadata": {},
   "source": [
    "### Comparing models on considering varying labelled instances\n",
    "* For each $k$, we have taken first k data points that are labelled\n",
    "* Fit a logistic regression model\n",
    "* Computed accuracy for the same"
   ]
  },
  {
   "cell_type": "code",
   "execution_count": 15,
   "id": "8026b2b2-df9e-4ccd-a394-7ac18f73350d",
   "metadata": {
    "tags": []
   },
   "outputs": [
    {
     "name": "stdout",
     "output_type": "stream",
     "text": [
      "Labelled Instance = 1000, Accuracy = 0.4309859154929577\n",
      "Labelled Instance = 2000, Accuracy = 0.45539906103286387\n",
      "Labelled Instance = 3000, Accuracy = 0.4582159624413146\n",
      "Total time taken = 18.408212661743164\n"
     ]
    }
   ],
   "source": [
    "k=[1000,2000,3000]\n",
    "start_time=time.time()\n",
    "for i in k:\n",
    "    log_reg = LogisticRegression(multi_class=\"ovr\", solver=\"lbfgs\", max_iter=400, random_state=42)\n",
    "    log_reg.fit(X_train.iloc[:i], y_train.iloc[:i])\n",
    "    print(f\"Labelled Instance = {i}, Accuracy = {log_reg.score(X_test, y_test)}\")\n",
    "end_time = time.time()\n",
    "print(f\"Total time taken = {end_time-start_time}\")"
   ]
  },
  {
   "cell_type": "markdown",
   "id": "2d895cbd-5189-466d-901e-1bc72ed2b01a",
   "metadata": {},
   "source": [
    "* Our logistic regression model performed better for large number of instances $3000$.\n",
    "* So for all the next experiments, I have worked with large cluster sizes, i.e. $3000$. \n",
    "* Earlier, the model performed better for large number of clusters $k=200$ with accuracy $66.57\\%$."
   ]
  },
  {
   "cell_type": "markdown",
   "id": "1cb37571-25c9-4fa9-b063-c9f180a4416a",
   "metadata": {},
   "source": [
    "### Clustering for Semi - Supervised Learning\n",
    "* Number of clusters = $\\texttt{3000}$\n",
    "* First, let's cluster the training set into $3000$ clusters\n",
    "* Then for each cluster let's find the image closest to the centroid\n",
    "* These items are the representative items"
   ]
  },
  {
   "cell_type": "code",
   "execution_count": 16,
   "id": "8275cd18-8ca8-48a0-a896-8473a03812fe",
   "metadata": {
    "tags": []
   },
   "outputs": [
    {
     "name": "stderr",
     "output_type": "stream",
     "text": [
      "C:\\Users\\skund\\anaconda3\\Lib\\site-packages\\sklearn\\cluster\\_kmeans.py:1412: FutureWarning: The default value of `n_init` will change from 10 to 'auto' in 1.4. Set the value of `n_init` explicitly to suppress the warning\n",
      "  super()._check_params_vs_input(X, default_n_init=10)\n"
     ]
    },
    {
     "name": "stdout",
     "output_type": "stream",
     "text": [
      "Total time taken = 779.3772859573364\n"
     ]
    }
   ],
   "source": [
    "start_time=time.time()\n",
    "kmeans = KMeans(n_clusters=3000, random_state=42)\n",
    "X_items_dist = kmeans.fit_transform(X_train)\n",
    "representative_item_idx = np.argmin(X_items_dist, axis=0)\n",
    "X_representative_items = X_train.iloc[representative_item_idx]\n",
    "end_time = time.time()\n",
    "print(f\"Total time taken = {end_time-start_time}\")"
   ]
  },
  {
   "cell_type": "code",
   "execution_count": 17,
   "id": "0df5a211-413b-4a3c-8383-6a6f2892833e",
   "metadata": {
    "tags": []
   },
   "outputs": [],
   "source": [
    "y_representative_items = np.array(y_train[representative_item_idx])"
   ]
  },
  {
   "cell_type": "markdown",
   "id": "84e9fcf5-75fe-45f2-8487-5cd3ca5350ee",
   "metadata": {},
   "source": [
    "### Checking for Unknown Values\n",
    "* There is no unknown value in our datasets. \n",
    "* Let's, move to further preprocessing."
   ]
  },
  {
   "cell_type": "markdown",
   "id": "31455b88-aa9e-48dd-8b2e-d770c257b012",
   "metadata": {},
   "source": [
    "* Dataset with just $3000$ labeled instances, each of them is a representative item of its cluster. \n",
    "* Let's see if the performance is any better."
   ]
  },
  {
   "cell_type": "code",
   "execution_count": 18,
   "id": "98e96599-57e5-4d29-9fa2-bf4d2b3880d2",
   "metadata": {
    "tags": []
   },
   "outputs": [
    {
     "name": "stdout",
     "output_type": "stream",
     "text": [
      "0.39154929577464787\n",
      "Total time taken = 8.909500360488892\n"
     ]
    }
   ],
   "source": [
    "start_time=time.time()\n",
    "log_reg = LogisticRegression(multi_class=\"ovr\", solver=\"lbfgs\", max_iter=400, random_state=42)\n",
    "log_reg.fit(X_representative_items, y_representative_items)\n",
    "end_time = time.time()\n",
    "print(log_reg.score(X_test, y_test))\n",
    "print(f\"Total time taken = {end_time-start_time}\")"
   ]
  },
  {
   "cell_type": "markdown",
   "id": "82eec32d-920b-4bd5-a4e6-6482f89cb7fb",
   "metadata": {},
   "source": [
    "* Current Accuracy of the model is $\\texttt{39.15%}$ "
   ]
  },
  {
   "cell_type": "markdown",
   "id": "3d55e1be-fb3d-4e12-bc98-9e3af702e8e8",
   "metadata": {},
   "source": [
    "### Clustering and Propagating the Labels to other Instances in the Same Cluster"
   ]
  },
  {
   "cell_type": "markdown",
   "id": "a540dd14-eced-43e4-bd1c-081886a7a170",
   "metadata": {},
   "source": [
    "* But perhaps we can go one step further,\n",
    "    * What if we propagated the labels to all the other instances in the same cluster?"
   ]
  },
  {
   "cell_type": "code",
   "execution_count": 19,
   "id": "534308a0-17db-4735-821f-b18e164c40d2",
   "metadata": {
    "tags": []
   },
   "outputs": [],
   "source": [
    "y_train_propagated = np.empty(len(X_train), dtype=np.int32)\n",
    "for i in range(3000):\n",
    "    y_train_propagated[kmeans.labels_==i] = y_representative_items[i]"
   ]
  },
  {
   "cell_type": "code",
   "execution_count": 20,
   "id": "ab5783a0-f130-4b67-a9ad-e82ba88f5c39",
   "metadata": {
    "tags": []
   },
   "outputs": [
    {
     "name": "stderr",
     "output_type": "stream",
     "text": [
      "C:\\Users\\skund\\anaconda3\\Lib\\site-packages\\sklearn\\linear_model\\_logistic.py:460: ConvergenceWarning: lbfgs failed to converge (status=1):\n",
      "STOP: TOTAL NO. of ITERATIONS REACHED LIMIT.\n",
      "\n",
      "Increase the number of iterations (max_iter) or scale the data as shown in:\n",
      "    https://scikit-learn.org/stable/modules/preprocessing.html\n",
      "Please also refer to the documentation for alternative solver options:\n",
      "    https://scikit-learn.org/stable/modules/linear_model.html#logistic-regression\n",
      "  n_iter_i = _check_optimize_result(\n"
     ]
    },
    {
     "name": "stdout",
     "output_type": "stream",
     "text": [
      "0.39906103286384975\n",
      "Total time taken = 33.379611015319824\n"
     ]
    }
   ],
   "source": [
    "start_time=time.time()\n",
    "log_reg = LogisticRegression(multi_class=\"ovr\", solver=\"lbfgs\", max_iter=400, random_state=42)\n",
    "log_reg.fit(X_train, y_train_propagated)\n",
    "end_time = time.time()\n",
    "print(log_reg.score(X_test,y_test))\n",
    "print(f\"Total time taken = {end_time-start_time}\")"
   ]
  },
  {
   "cell_type": "markdown",
   "id": "4b3a7c6f-fe0a-4dcd-b452-6c1985babbb5",
   "metadata": {},
   "source": [
    "* We got a tiny little accuracy boost to $\\texttt{39.91%}$\n",
    "* Better than nothing, but we should probably have propagated the labels only to the instances closest to the centroid.\n",
    "* Because by propagating to the full cluster, we have certainly included some outliers."
   ]
  },
  {
   "cell_type": "markdown",
   "id": "daac9886-a1c1-4f17-9ec3-c7747aae83bd",
   "metadata": {},
   "source": [
    "### Propagating the Labels to Some Certain Percentile Closest to the Centroid"
   ]
  },
  {
   "cell_type": "markdown",
   "id": "542525b0-7d9a-4380-83da-df646e4da6ba",
   "metadata": {},
   "source": [
    "* Let's only propagate the labels to the $25^{th}$ percentile closest to the centroid\n",
    "* Accuracy = $\\texttt{43.47}\\%$ **Improved!**"
   ]
  },
  {
   "cell_type": "code",
   "execution_count": 21,
   "id": "862c62bc-7325-4f9c-baf7-0dad56012101",
   "metadata": {
    "tags": []
   },
   "outputs": [],
   "source": [
    "percentile_closest = 25\n",
    "\n",
    "X_cluster_dist = X_items_dist[np.arange(len(X_train)), kmeans.labels_]\n",
    "for i in range(3000):\n",
    "    in_cluster = (kmeans.labels_ == i)\n",
    "    cluster_dist = X_cluster_dist[in_cluster]\n",
    "    cutoff_distance = np.percentile(cluster_dist, percentile_closest)\n",
    "    above_cutoff = (X_cluster_dist > cutoff_distance)\n",
    "    X_cluster_dist[in_cluster & above_cutoff] = -1\n",
    "\n",
    "partially_propagated = (X_cluster_dist != -1)\n",
    "X_train_partially_propagated = X_train[partially_propagated]\n",
    "y_train_partially_propagated = y_train_propagated[partially_propagated]"
   ]
  },
  {
   "cell_type": "code",
   "execution_count": 22,
   "id": "f32af6e4-8443-4984-8bb8-66cc77d59a56",
   "metadata": {
    "tags": []
   },
   "outputs": [
    {
     "name": "stdout",
     "output_type": "stream",
     "text": [
      "Percentile Closest = 25, Accuracy = 0.4347417840375587\n",
      "Total time taken = 13.724716186523438\n"
     ]
    }
   ],
   "source": [
    "start_time = time.time()\n",
    "log_reg = LogisticRegression(multi_class=\"ovr\", solver=\"lbfgs\", max_iter=400, random_state=42)\n",
    "log_reg.fit(X_train_partially_propagated, y_train_partially_propagated)\n",
    "end_time = time.time()\n",
    "print(f\"Percentile Closest = {percentile_closest}, Accuracy = {log_reg.score(X_test,y_test)}\")\n",
    "print(f\"Total time taken = {end_time-start_time}\")"
   ]
  },
  {
   "cell_type": "code",
   "execution_count": 23,
   "id": "5b74b15e-8a26-48f2-8eeb-6a2d64051d9c",
   "metadata": {
    "tags": []
   },
   "outputs": [
    {
     "data": {
      "text/plain": [
       "0.858379418129358"
      ]
     },
     "execution_count": 23,
     "metadata": {},
     "output_type": "execute_result"
    }
   ],
   "source": [
    "np.mean(y_train_partially_propagated == y_train[partially_propagated])"
   ]
  },
  {
   "cell_type": "markdown",
   "id": "991ef148-be50-4fff-809d-a5a3cac21889",
   "metadata": {},
   "source": [
    "* Let's only propagate the labels to the $50^{th}$ percentile closest to the centroid\n",
    "* Accuracy = $\\texttt{41.50}\\%$ **Improved!**"
   ]
  },
  {
   "cell_type": "code",
   "execution_count": 24,
   "id": "bd4e348b-257d-4fd0-9f20-e93c30185463",
   "metadata": {
    "tags": []
   },
   "outputs": [],
   "source": [
    "percentile_closest = 50\n",
    "\n",
    "X_cluster_dist = X_items_dist[np.arange(len(X_train)), kmeans.labels_]\n",
    "for i in range(3000):\n",
    "    in_cluster = (kmeans.labels_ == i)\n",
    "    cluster_dist = X_cluster_dist[in_cluster]\n",
    "    cutoff_distance = np.percentile(cluster_dist, percentile_closest)\n",
    "    above_cutoff = (X_cluster_dist > cutoff_distance)\n",
    "    X_cluster_dist[in_cluster & above_cutoff] = -1\n",
    "\n",
    "partially_propagated = (X_cluster_dist != -1)\n",
    "X_train_partially_propagated = X_train[partially_propagated]\n",
    "y_train_partially_propagated = y_train_propagated[partially_propagated]"
   ]
  },
  {
   "cell_type": "code",
   "execution_count": 25,
   "id": "fe194736-9a5f-4037-b17f-b85de98eb15a",
   "metadata": {
    "tags": []
   },
   "outputs": [
    {
     "name": "stdout",
     "output_type": "stream",
     "text": [
      "Percentile Closest = 50, Accuracy = 0.41502347417840374\n",
      "Total time taken = 18.416394233703613\n"
     ]
    }
   ],
   "source": [
    "start_time = time.time()\n",
    "log_reg = LogisticRegression(multi_class=\"ovr\", solver=\"lbfgs\", max_iter=400, random_state=42)\n",
    "log_reg.fit(X_train_partially_propagated, y_train_partially_propagated)\n",
    "end_time = time.time()\n",
    "print(f\"Percentile Closest = {percentile_closest}, Accuracy = {log_reg.score(X_test,y_test)}\")\n",
    "print(f\"Total time taken = {end_time-start_time}\")"
   ]
  },
  {
   "cell_type": "code",
   "execution_count": 26,
   "id": "26c0f3e6-8822-4586-a5df-a0b74ab2212e",
   "metadata": {
    "tags": []
   },
   "outputs": [
    {
     "data": {
      "text/plain": [
       "0.7394656625425856"
      ]
     },
     "execution_count": 26,
     "metadata": {},
     "output_type": "execute_result"
    }
   ],
   "source": [
    "np.mean(y_train_partially_propagated == y_train[partially_propagated])"
   ]
  },
  {
   "cell_type": "markdown",
   "id": "2be12ab2-659d-4b24-9e51-257b5a5f1e4f",
   "metadata": {},
   "source": [
    "* Let's only propagate the labels to the $75^{th}$ percentile closest to the centroid\n",
    "* Accuracy = $\\texttt{40.09}\\%$ **Improved!**"
   ]
  },
  {
   "cell_type": "code",
   "execution_count": 27,
   "id": "0975fc17-d677-4c9d-a585-1ab93835ef92",
   "metadata": {
    "tags": []
   },
   "outputs": [],
   "source": [
    "percentile_closest = 75\n",
    "\n",
    "X_cluster_dist = X_items_dist[np.arange(len(X_train)), kmeans.labels_]\n",
    "for i in range(3000):\n",
    "    in_cluster = (kmeans.labels_ == i)\n",
    "    cluster_dist = X_cluster_dist[in_cluster]\n",
    "    cutoff_distance = np.percentile(cluster_dist, percentile_closest)\n",
    "    above_cutoff = (X_cluster_dist > cutoff_distance)\n",
    "    X_cluster_dist[in_cluster & above_cutoff] = -1\n",
    "\n",
    "partially_propagated = (X_cluster_dist != -1)\n",
    "X_train_partially_propagated = X_train[partially_propagated]\n",
    "y_train_partially_propagated = y_train_propagated[partially_propagated]"
   ]
  },
  {
   "cell_type": "code",
   "execution_count": 28,
   "id": "cb9317bc-584e-4a66-8a1f-896c4c3f5b64",
   "metadata": {
    "tags": []
   },
   "outputs": [
    {
     "name": "stdout",
     "output_type": "stream",
     "text": [
      "Percentile Closest = 75, Accuracy = 0.40093896713615024\n",
      "Total time taken = 24.739566564559937\n"
     ]
    }
   ],
   "source": [
    "start_time = time.time()\n",
    "log_reg = LogisticRegression(multi_class=\"ovr\", solver=\"lbfgs\", max_iter=600, random_state=42)\n",
    "log_reg.fit(X_train_partially_propagated, y_train_partially_propagated)\n",
    "end_time = time.time()\n",
    "print(f\"Percentile Closest = {percentile_closest}, Accuracy = {log_reg.score(X_test,y_test)}\")\n",
    "print(f\"Total time taken = {end_time-start_time}\")"
   ]
  },
  {
   "cell_type": "code",
   "execution_count": 29,
   "id": "16785e38-0c6c-4e02-9b06-9310ceb04473",
   "metadata": {
    "tags": []
   },
   "outputs": [
    {
     "data": {
      "text/plain": [
       "0.6518496856265535"
      ]
     },
     "execution_count": 29,
     "metadata": {},
     "output_type": "execute_result"
    }
   ],
   "source": [
    "np.mean(y_train_partially_propagated == y_train[partially_propagated])"
   ]
  },
  {
   "cell_type": "markdown",
   "id": "ba5e3a5c-d91b-43b7-be4b-f2d62c90eae8",
   "metadata": {},
   "source": [
    "* Let's only propagate the labels to the $20^{th}$ percentile closest to the centroid\n",
    "* Accuracy = $\\texttt{43.66}\\%$ **Improved!**"
   ]
  },
  {
   "cell_type": "code",
   "execution_count": 30,
   "id": "dcdbe52e-11d4-4bd9-8301-32686dbe8989",
   "metadata": {
    "tags": []
   },
   "outputs": [],
   "source": [
    "percentile_closest = 20\n",
    "\n",
    "X_cluster_dist = X_items_dist[np.arange(len(X_train)), kmeans.labels_]\n",
    "for i in range(3000):\n",
    "    in_cluster = (kmeans.labels_ == i)\n",
    "    cluster_dist = X_cluster_dist[in_cluster]\n",
    "    cutoff_distance = np.percentile(cluster_dist, percentile_closest)\n",
    "    above_cutoff = (X_cluster_dist > cutoff_distance)\n",
    "    X_cluster_dist[in_cluster & above_cutoff] = -1\n",
    "\n",
    "partially_propagated = (X_cluster_dist != -1)\n",
    "X_train_partially_propagated = X_train[partially_propagated]\n",
    "y_train_partially_propagated = y_train_propagated[partially_propagated]"
   ]
  },
  {
   "cell_type": "code",
   "execution_count": 31,
   "id": "2e6d791b-29cc-4aeb-b4bd-25cf171d46c8",
   "metadata": {
    "tags": []
   },
   "outputs": [
    {
     "name": "stdout",
     "output_type": "stream",
     "text": [
      "Percentile Closest = 20, Accuracy = 0.43661971830985913\n",
      "Total time taken = 12.424872875213623\n"
     ]
    }
   ],
   "source": [
    "start_time = time.time()\n",
    "log_reg = LogisticRegression(multi_class=\"ovr\", solver=\"lbfgs\", max_iter=600, random_state=42)\n",
    "log_reg.fit(X_train_partially_propagated, y_train_partially_propagated)\n",
    "end_time = time.time()\n",
    "print(f\"Percentile Closest = {percentile_closest}, Accuracy = {log_reg.score(X_test,y_test)}\")\n",
    "print(f\"Total time taken = {end_time-start_time}\")"
   ]
  },
  {
   "cell_type": "code",
   "execution_count": 32,
   "id": "cbbd84cb-03c3-4a9a-8e86-ac3e34d38286",
   "metadata": {
    "tags": []
   },
   "outputs": [
    {
     "data": {
      "text/plain": [
       "0.8854863612969635"
      ]
     },
     "execution_count": 32,
     "metadata": {},
     "output_type": "execute_result"
    }
   ],
   "source": [
    "np.mean(y_train_partially_propagated == y_train[partially_propagated])"
   ]
  },
  {
   "cell_type": "markdown",
   "id": "2ccc20d9-be43-487c-9786-c3b5b80373d5",
   "metadata": {},
   "source": [
    "### Concluding Remarks\n",
    "* The propagated labels are actually pretty good, their accuracy is close to $\\texttt{88.55}\\%$ which is the highest for $20^{th}$ percentile closest to the centroid.\n",
    "* I have got the highest accuracy of the model to be $\\texttt{43.66}\\%$ for the propagated labelled instances which are $20^{th}$ percentile closest to the centroid.\n",
    "* Thus we could get closer to the performance of logistic regression on the fully labelled Fashion-MNIST dataset (which was $\\texttt{46.38}\\%$).\n",
    "* Here, we couldn’t increase the accuracy too much (nearly the same) by using semi-supervised learning techniques.\n",
    "    * Still in some situations when we have completely unlabelled data, using semi-supervised learning techniques we can boost the accuracy of our models by labeling a small part of our data manually, in prior."
   ]
  }
 ],
 "metadata": {
  "kernelspec": {
   "display_name": "Python 3 (ipykernel)",
   "language": "python",
   "name": "python3"
  },
  "language_info": {
   "codemirror_mode": {
    "name": "ipython",
    "version": 3
   },
   "file_extension": ".py",
   "mimetype": "text/x-python",
   "name": "python",
   "nbconvert_exporter": "python",
   "pygments_lexer": "ipython3",
   "version": "3.11.5"
  }
 },
 "nbformat": 4,
 "nbformat_minor": 5
}
